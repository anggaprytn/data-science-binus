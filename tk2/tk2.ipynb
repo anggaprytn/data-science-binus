{
 "cells": [
  {
   "cell_type": "code",
   "execution_count": 1,
   "id": "ebd03a33",
   "metadata": {},
   "outputs": [
    {
     "name": "stdout",
     "output_type": "stream",
     "text": [
      "Mean Ukuran: 716.5, Mean Tarif Internet: 28.6, Mean Harga Sewa: 455.7\n",
      "Median Ukuran: 677.5, Median Tarif Internet: 16.0, Median Harga Sewa: 405.0\n",
      "Modus Ukuran: ['Tidak ada modus karena semua angka muncul hanya satu kali.'], Modus Tarif Internet: [8], Modus Harga Sewa: ['Tidak ada modus karena semua angka muncul hanya satu kali.']\n"
     ]
    }
   ],
   "source": [
    "from typing import List\n",
    "from collections import Counter\n",
    "import pandas as pd\n",
    "\n",
    "def mean(xs: List[float]) -> float:\n",
    "    return sum(xs) / len(xs)\n",
    "\n",
    "def _median_odd(xs: List[float]) -> float:\n",
    "    return sorted(xs)[len(xs) // 2]\n",
    "\n",
    "def _median_even(xs: List[float]) -> float:\n",
    "    sorted_xs = sorted(xs)\n",
    "    hi_midpoint = len(xs) // 2\n",
    "    return (sorted_xs[hi_midpoint - 1] + sorted_xs[hi_midpoint]) / 2\n",
    "\n",
    "def mode(x: List[float]) -> List[float]:\n",
    "    counts = Counter(x)\n",
    "    max_count = max(counts.values())\n",
    "    return [x_i for x_i, count in counts.items() if count == max_count]\n",
    "\n",
    "data = pd.read_csv(\"data_tk2.csv\")\n",
    "df = pd.DataFrame(data)\n",
    "\n",
    "mean_ukuran = mean(df['Ukuran'].tolist())\n",
    "mean_internet = mean(df['Tarif Internet'].tolist())\n",
    "mean_sewa = mean(df['Harga Sewa'].tolist())\n",
    "\n",
    "median_ukuran = _median_even(df['Ukuran'].tolist()) if len(df['Ukuran']) % 2 == 0 else _median_odd(df['Ukuran'].tolist())\n",
    "median_internet = _median_even(df['Tarif Internet'].tolist()) if len(df['Tarif Internet']) % 2 == 0 else _median_odd(df['Tarif Internet'].tolist())\n",
    "median_sewa = _median_even(df['Harga Sewa'].tolist()) if len(df['Harga Sewa']) % 2 == 0 else _median_odd(df['Harga Sewa'].tolist())\n",
    "\n",
    "mode_ukuran = mode(df['Ukuran'].tolist()) if len(set(df['Ukuran'])) != len(df['Ukuran']) else [\"Tidak ada modus karena semua angka muncul hanya satu kali.\"]\n",
    "mode_internet = mode(df['Tarif Internet'].tolist()) if len(set(df['Tarif Internet'])) != len(df['Tarif Internet']) else [\"Tidak ada modus karena semua angka muncul hanya satu kali.\"]\n",
    "mode_sewa = mode(df['Harga Sewa'].tolist()) if len(set(df['Harga Sewa'])) != len(df['Harga Sewa']) else [\"Tidak ada modus karena semua angka muncul hanya satu kali.\"]\n",
    "\n",
    "print(f\"Mean Ukuran: {mean_ukuran}, Mean Tarif Internet: {mean_internet}, Mean Harga Sewa: {mean_sewa}\")\n",
    "print(f\"Median Ukuran: {median_ukuran}, Median Tarif Internet: {median_internet}, Median Harga Sewa: {median_sewa}\")\n",
    "print(f\"Modus Ukuran: {mode_ukuran}, Modus Tarif Internet: {mode_internet}, Modus Harga Sewa: {mode_sewa}\")"
   ]
  }
 ],
 "metadata": {
  "kernelspec": {
   "display_name": "Python 3 (ipykernel)",
   "language": "python",
   "name": "python3"
  },
  "language_info": {
   "codemirror_mode": {
    "name": "ipython",
    "version": 3
   },
   "file_extension": ".py",
   "mimetype": "text/x-python",
   "name": "python",
   "nbconvert_exporter": "python",
   "pygments_lexer": "ipython3",
   "version": "3.10.12"
  }
 },
 "nbformat": 4,
 "nbformat_minor": 5
}
