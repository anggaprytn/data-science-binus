{
 "cells": [
  {
   "cell_type": "code",
   "execution_count": 25,
   "id": "05c5693b",
   "metadata": {
    "scrolled": true
   },
   "outputs": [
    {
     "name": "stdout",
     "output_type": "stream",
     "text": [
      "b = 0.6228479592861687\n"
     ]
    }
   ],
   "source": [
    "# Import necessary libraries\n",
    "import pandas as pd\n",
    "\n",
    "# Load the data\n",
    "data = pd.read_csv('data_tk3.csv')\n",
    "\n",
    "# Define the independent variable (X) and dependent variable (Y)\n",
    "X = data['Ukuran']\n",
    "Y = data['Harga Sewa']\n",
    "\n",
    "# Add necessary columns\n",
    "data['X^2'] = X ** 2\n",
    "data['Y^2'] = Y ** 2\n",
    "data['XY'] = X * Y\n",
    "\n",
    "# Display the table with X^2, Y^2, and XY\n",
    "print(data[['Ukuran', 'Harga Sewa', 'X^2', 'Y^2', 'XY']])\n",
    "\n",
    "# Calculate totals\n",
    "total_X = X.sum()\n",
    "total_Y = Y.sum()\n",
    "total_X2 = data['X^2'].sum()\n",
    "total_Y2 = data['Y^2'].sum()\n",
    "total_XY = data['XY'].sum()\n",
    "\n",
    "# Number of observations\n",
    "n = data.shape[0]\n",
    "\n",
    "# Calculate a\n",
    "a = ((total_Y * total_X2) - (total_X * total_XY)) / (n * total_X2 - total_X ** 2)\n",
    "print(\"a =\", a)\n",
    "\n",
    "# Calculate b\n",
    "b = (n * total_XY - total_X * total_Y) / (n * total_X2 - total_X ** 2)\n",
    "print(\"b =\", b)\n",
    "\n",
    "# Predict the rental price for an office space of size 730 m2\n",
    "X_new = 730\n",
    "Y_pred = a + b * X_new\n",
    "print(\"Hasil Prediksi Harga untuk kantor dengan ukuran 730 m2 =\", Y_pred)"
   ]
  },
  {
   "cell_type": "code",
   "execution_count": null,
   "id": "c24f3ecb",
   "metadata": {},
   "outputs": [],
   "source": []
  }
 ],
 "metadata": {
  "kernelspec": {
   "display_name": "Python 3 (ipykernel)",
   "language": "python",
   "name": "python3"
  },
  "language_info": {
   "codemirror_mode": {
    "name": "ipython",
    "version": 3
   },
   "file_extension": ".py",
   "mimetype": "text/x-python",
   "name": "python",
   "nbconvert_exporter": "python",
   "pygments_lexer": "ipython3",
   "version": "3.10.9"
  }
 },
 "nbformat": 4,
 "nbformat_minor": 5
}
