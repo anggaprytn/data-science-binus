{
 "cells": [
  {
   "cell_type": "code",
   "execution_count": 3,
   "id": "6cb9f741",
   "metadata": {},
   "outputs": [
    {
     "name": "stdout",
     "output_type": "stream",
     "text": [
      "Data 1: Jenis transportasi yang diprediksi: Kendaraan pribadi\n",
      "Data 2: Jenis transportasi yang diprediksi: Kendaraan pribadi\n"
     ]
    }
   ],
   "source": [
    "import csv\n",
    "from typing import List\n",
    "\n",
    "def load_data(filename: str) -> List[dict]:\n",
    "    data = []\n",
    "    with open(filename, 'r') as file:\n",
    "        reader = csv.DictReader(file)\n",
    "        for row in reader:\n",
    "            data.append(row)\n",
    "    return data\n",
    "\n",
    "def tokenize(text: str) -> List[str]:\n",
    "    return text.lower().split()\n",
    "\n",
    "def train_naive_bayes(data: List[dict]) -> dict:\n",
    "    counts = {'Kendaraan pribadi': 0, 'Kendaraan umum': 0}\n",
    "    tokens = {'Kendaraan pribadi': [], 'Kendaraan umum': []}\n",
    "    \n",
    "    for row in data:\n",
    "        if row['Transportasi'] == '?':\n",
    "            continue\n",
    "        \n",
    "        transportasi = row['Transportasi']\n",
    "        counts[transportasi] += 1\n",
    "        for token in tokenize(row['Status']):\n",
    "            tokens[transportasi].append(token)\n",
    "    \n",
    "    model = {'counts': counts, 'tokens': tokens}\n",
    "    return model\n",
    "\n",
    "def calculate_probabilities(model: dict, status: str) -> dict:\n",
    "    counts = model['counts']\n",
    "    tokens = model['tokens']\n",
    "    total_count = sum(counts.values())\n",
    "    \n",
    "    probabilities = {}\n",
    "    for transportasi in counts:\n",
    "        transportasi_count = counts[transportasi]\n",
    "        transportasi_tokens = tokens[transportasi]\n",
    "        \n",
    "        p_transportasi = transportasi_count / total_count\n",
    "        \n",
    "        p_status_given_transportasi = transportasi_tokens.count(status) / len(transportasi_tokens)\n",
    "        \n",
    "        probabilities[transportasi] = p_transportasi * p_status_given_transportasi\n",
    "    \n",
    "    return probabilities\n",
    "\n",
    "def predict_transportasi(data: List[dict], model: dict) -> List[str]:\n",
    "    predictions = []\n",
    "    for row in data:\n",
    "        status = row['Status']\n",
    "        probabilities = calculate_probabilities(model, status)\n",
    "        predicted_transportasi = max(probabilities, key=probabilities.get)\n",
    "        predictions.append(predicted_transportasi)\n",
    "    return predictions\n",
    "\n",
    "# Muat data dari file CSV\n",
    "data = load_data('tp2.csv')\n",
    "\n",
    "# Latih model Naive Bayes\n",
    "model = train_naive_bayes(data)\n",
    "\n",
    "# Data baru untuk diprediksi\n",
    "new_data = [\n",
    "    {'No.': '11', 'Jenis Kelamin': 'Perempuan', 'Umur Karyawan': '27', 'Gaji': '12,000,000', 'Status': 'Single'},\n",
    "    {'No.': '12', 'Jenis Kelamin': 'Laki-Laki', 'Umur Karyawan': '35', 'Gaji': '14,000,000', 'Status': 'Menikah'}\n",
    "]\n",
    "\n",
    "# Memprediksi transportasi untuk data baru\n",
    "predictions = predict_transportasi(new_data, model)\n",
    "\n",
    "# Menampilkan prediksi\n",
    "for i, prediction in enumerate(predictions):\n",
    "    print(f\"Data {i+1}: Jenis transportasi yang diprediksi: {prediction}\")\n"
   ]
  },
  {
   "cell_type": "code",
   "execution_count": null,
   "id": "5f01f235",
   "metadata": {},
   "outputs": [],
   "source": []
  }
 ],
 "metadata": {
  "kernelspec": {
   "display_name": "Python 3 (ipykernel)",
   "language": "python",
   "name": "python3"
  },
  "language_info": {
   "codemirror_mode": {
    "name": "ipython",
    "version": 3
   },
   "file_extension": ".py",
   "mimetype": "text/x-python",
   "name": "python",
   "nbconvert_exporter": "python",
   "pygments_lexer": "ipython3",
   "version": "3.10.9"
  }
 },
 "nbformat": 4,
 "nbformat_minor": 5
}
